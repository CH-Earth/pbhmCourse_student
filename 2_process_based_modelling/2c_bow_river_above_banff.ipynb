{
 "cells": [
  {
   "cell_type": "markdown",
   "metadata": {},
   "source": [
    "# Bow river above Banff\n",
    "In this exercise you will run different setups of the Structure for Unifying Multiple Modelling Alternatives (SUMMA; Clark et al., 2015a,b) for part of the Bow river in Alberta, Canada. Each setup is a different way in which the modelling domain can be discretized. You will investigate the impact of the choice of spatial discretization on streamflow simulations for this region. The map below gives an impression of the size and elevation gradiants in this catchment. The red circle indicates the catchment's outlet. (Sub-)catchment boundaries are taken from the MERIT Hydro dataset (Yamazaki et al., 2019). The Bow Valley contains several glaciers that strongly influence the regions streamflow generation. See Bash and Marshall (2014) for an introduction to glacier melt contributions in the Bow valley and Naz et al. (2014) for an example of glacier modelling.\n",
    "\n",
    "<div>\n",
    "<img src=\"./img/bow_at_banff.png\" width=\"750\"/>\n",
    "</div>\n",
    "\n",
    "### Note on pysumma\n",
    "In the following, you might want to change certain values in your pysumma setup. Keep in mind that if you make these changes in the input files in the `settings` folder, you will need to make a new pysumma simulation object to have these changes take effect (`s = ps.Simulation(executable, file_manager_constant)`). If you instead make the changes to an existing pysumma simulation object, make sure to reset your pysumma simulation object to its base state after each simulation (`s.reset()`) so that your changes don't accumulate. \n",
    "\n",
    "## References\n",
    "Bash, E., & Marshall, S. (2014). Estimation of glacial melt contributions to the Bow River, Alberta, Canada, using a radiation-temperature melt model. Annals of Glaciology, 55(66), 138-152. doi:10.3189/2014AoG66A226\n",
    "\n",
    "Clark, M. P., J. Hendrikx, A. G. Slater, D. Kavetski, B. Anderson, N. J. Cullen, T. Kerr, E. Orn Hreinsson, and R. A. Woods (2011), Representing spatial variability of snow water equivalent in hydrologic and land-surface models: A review, Water Resour. Res., 47, W07539, doi:10.1029/2011WR010745\n",
    "\n",
    "Clark, M. P., Nijssen, B., Lundquist, J. D., Kavetski, D., Rupp, D. E., Woods, R. A., … Rasmussen, R. M. (2015a). A unified approach for process-based hydrologic modeling: 1. Modeling concept. Water Resources Research, 51(4), 2498–2514. https://doi.org/10.1002/2015WR017198\n",
    "\n",
    "Clark, M. P., Nijssen, B., Lundquist, J. D., Kavetski, D., Rupp, D. E., Woods, R. A., … Marks, D. G. (2015b). A unified approach for process-based hydrologic modeling: 2. Model implementation and case studies. Water Resources Research, 51, 2515–2542. https://doi.org/10.1002/2015WR017200\n",
    "\n",
    "Naz, B. S., Frans, C. D., Clarke, G. K. C., Burns, P., and Lettenmaier, D. P. (2014). Modeling the effect of glacier recession on streamflow response using a coupled glacio-hydrological model, Hydrol. Earth Syst. Sci., 18, 787–802, https://doi.org/10.5194/hess-18-787-2014\n",
    "\n",
    "Mizukami, N., Clark, M. P., Sampson, K., Nijssen, B., Mao, Y., McMillan, H., Viger, R. J., Markstrom, S. L., Hay, L. E., Woods, R., Arnold, J. R., and Brekke, L. D. (2016). mizuRoute version 1: a river network routing tool for a continental domain water resources applications, Geosci. Model Dev., 9, 2223–2238, https://doi.org/10.5194/gmd-9-2223-2016\n",
    "\n",
    "Yamazaki, D., Ikeshima, D., Sosa, J., Bates, P. D., Allen, G. H., & Pavelsky, T. M. (2019). MERIT Hydro: a high‐resolution global hydrography map based on latest topography dataset. Water Resources Research, 55, 5053–5073. https://doi.org/10.1029/2019WR024873"
   ]
  },
  {
   "cell_type": "markdown",
   "metadata": {},
   "source": [
    "<br>\n",
    "\n",
    "## Notebook setup"
   ]
  },
  {
   "cell_type": "code",
   "execution_count": null,
   "metadata": {},
   "outputs": [],
   "source": [
    "# modules\n",
    "import os\n",
    "import time\n",
    "import subprocess # needed to run mizuRoute.exe from the notebook\n",
    "import numpy as np\n",
    "import xarray as xr\n",
    "import pysumma as ps\n",
    "import geopandas as gpd\n",
    "import matplotlib.pyplot as plt"
   ]
  },
  {
   "cell_type": "code",
   "execution_count": null,
   "metadata": {},
   "outputs": [],
   "source": [
    "# define the base path so that we won't have to type this over and over\n",
    "path_base = '/home/jovyan/data/pbhmCourse_student/2_process_based_modelling/'"
   ]
  },
  {
   "cell_type": "markdown",
   "metadata": {},
   "source": [
    "<br>\n",
    "\n",
    "## Load the simulations from Hydroshare\n",
    "Simulations for this exercise have already been prepared and are available as a Hydroshare resource. Code to run SUMMA and perform the routing is available at the end of this notebook for those who are interested to try this out themselves. Note that the distributed simulations can take over an hour to complete, which is why these simulations are already prepared for your use. Execute the following commands to load the simulations from Hydroshare."
   ]
  },
  {
   "cell_type": "code",
   "execution_count": null,
   "metadata": {},
   "outputs": [],
   "source": [
    "# modules\n",
    "from hs_restclient import HydroShare # to get the files\n",
    "import zipfile # and to unzip them"
   ]
  },
  {
   "cell_type": "code",
   "execution_count": null,
   "metadata": {},
   "outputs": [],
   "source": [
    "# Make a hydroshare object - note: needs authentication\n",
    "hs = HydroShare()"
   ]
  },
  {
   "cell_type": "code",
   "execution_count": null,
   "metadata": {},
   "outputs": [],
   "source": [
    "# Specify the resource ID and download the resource into the main exercise directory\n",
    "resource_id = 'a0cfaa6df18643ccbf777c9e3cdd8a86'\n",
    "hs.getResource(resource_id, \n",
    "               destination=path_base)"
   ]
  },
  {
   "cell_type": "code",
   "execution_count": null,
   "metadata": {},
   "outputs": [],
   "source": [
    "# unzip the file \n",
    "with zipfile.ZipFile(resource_id+'.zip', 'r') as zip_ref:\n",
    "    \n",
    "    # find all files in the zip\n",
    "    zip_files = zip_ref.namelist()\n",
    "    \n",
    "    # loop over the files and extract only the .nc\n",
    "    for zip_file in zip_files:\n",
    "        if zip_file.endswith('.nc'):\n",
    "            \n",
    "            # print\n",
    "            print('Now extracting ' + zip_file)\n",
    "            \n",
    "            # extract the file\n",
    "            zip_ref.extract(zip_file,'tmp_zip')\n",
    "            \n",
    "            # find where the file is inside tmp_zip\n",
    "            for root, dirs, files in os.walk('./tmp_zip'):\n",
    "                for file in files:\n",
    "                    old_loc = os.path.join(root,file)\n",
    "                    old_folder = root\n",
    "                    \n",
    "            # specify where it should go\n",
    "            new_folder = '.' + old_folder[old_folder.find('/output/'):]\n",
    "            new_loc = '.' + old_loc[old_loc.find('/output/'):]\n",
    "            \n",
    "            # make the output directory if it doesn't exist yet\n",
    "            if not os.path.exists(new_folder):\n",
    "                os.makedirs(new_folder)\n",
    "            \n",
    "            # Take the file out of the temporary folder and put it where it shoule go\n",
    "            os.rename(old_loc,new_loc)"
   ]
  },
  {
   "cell_type": "code",
   "execution_count": null,
   "metadata": {},
   "outputs": [],
   "source": [
    "# remove the file and the tmp_zip dir\n",
    "!rm -r 'a0cfaa6df18643ccbf777c9e3cdd8a86.zip'\n",
    "!rm -r './tmp_zip/'"
   ]
  },
  {
   "cell_type": "markdown",
   "metadata": {},
   "source": [
    "<br>\n",
    "\n",
    "## Spatial discretization\n",
    "Now that all results are in, let's take take a look at the different modelling domains that generated the results. The four different spatial discretization setups are:\n",
    "- The catchment is treated as a single, lumped entity. In SUMMA terms, it consists of a single Geographical Response Unit (GRU)\n",
    "- The catchment is treated as a single GRU, but subdivided into three Hydrological Response Units (HRUs) that represent different elevation bands\n",
    "- The cachment is divided into 51 GRUs that represent different sub-catchments, based on the river network\n",
    "- The catchment is divided into 51 sub-catchments (GRUs), where the GRUs are further subdivided into HRUs that represent different elevation bands\n",
    "\n",
    "We'll vizualize this using the shapefiles (`.shp`) provided as part of the exercise data."
   ]
  },
  {
   "cell_type": "code",
   "execution_count": null,
   "metadata": {},
   "outputs": [],
   "source": [
    "# Specify shape file locations\n",
    "path_shp_lumped           = path_base + 'data/bow/topography/lumped/bow_lumped.shp'\n",
    "path_shp_lumped_elev      = path_base + 'data/bow/topography/lumped_elevationBands/bow_lumped_elevation_zone.shp'\n",
    "path_shp_distributed      = path_base + 'data/bow/topography/distributed/bow_distributed.shp'\n",
    "path_shp_distributed_elev = path_base + 'data/bow/topography/distributed_elevationBands/bow_distributed_elevation_zone.shp'\n",
    "path_shp_river_network    = path_base + 'data/bow/topography/river_network/bow_river_network_from_merit_hydro.shp'"
   ]
  },
  {
   "cell_type": "code",
   "execution_count": null,
   "metadata": {},
   "outputs": [],
   "source": [
    "# Load the shapes\n",
    "shp_lumped      = gpd.read_file(path_shp_lumped)\n",
    "shp_lumped_elev = gpd.read_file(path_shp_lumped_elev)\n",
    "shp_dist        = gpd.read_file(path_shp_distributed)\n",
    "shp_dist_elev   = gpd.read_file(path_shp_distributed_elev)\n",
    "shp_network     = gpd.read_file(path_shp_river_network)"
   ]
  },
  {
   "cell_type": "code",
   "execution_count": null,
   "metadata": {},
   "outputs": [],
   "source": [
    "# make a helpful function that can be used to plot the data\n",
    "def plot_cases(basin_shape,ax,title_string):\n",
    "    \n",
    "    vmin, vmax = 1380,3320 # [m]\n",
    "    basin_shape.plot(ax=ax, column='hru_elev', facecolor='w', edgecolor='k', cmap='Greys_r', legend=True, vmin=vmin, vmax=vmax); # basin discretization\n",
    "    shp_network.plot(ax=ax, linewidth=2, color=(66/255,203/255,245/255)); # river network (the same for all cases)\n",
    "    ax.plot(-115.555,51.167,linestyle='None',marker='o',color='r',label='outlet') # outlet (the same for all cases)\n",
    "    ax.legend()\n",
    "    ax.set_title(title_string)\n",
    "    \n",
    "    for im in plt.gca().get_images():\n",
    "        im.set_clim(vmin, vmax)\n",
    "    \n",
    "    return"
   ]
  },
  {
   "cell_type": "code",
   "execution_count": null,
   "metadata": {},
   "outputs": [],
   "source": [
    "# Prepare a figure\n",
    "fig, ax = plt.subplots(2,2,figsize=(14,14));\n",
    "fig.tight_layout()\n",
    "fig.suptitle('Mean HRU elevation [m.a.s.l.] for modelling setups of Bow river above Banff')\n",
    "fig.subplots_adjust(top=0.92, wspace=0.27, hspace=0.15) # move stuff around a bit\n",
    "\n",
    "# plot the 4 cases\n",
    "plot_cases(shp_lumped,     ax[0,0],'Case 1: lumped catchment \\n1 GRU')\n",
    "plot_cases(shp_lumped_elev,ax[0,1],'Case 2: lumped catchment with elevation bands \\n 1 GRU containing 3 HRUs')\n",
    "plot_cases(shp_dist,       ax[1,0],'Case 3: distributed sub-catchments \\n 51 GRUs')\n",
    "plot_cases(shp_dist_elev,  ax[1,1],'Case 4: distributed sub-catchments with elevation bands \\n 51 GRUs with up to 3 HRUs')"
   ]
  },
  {
   "cell_type": "markdown",
   "metadata": {},
   "source": [
    "<br>\n",
    "\n",
    "## Model setup\n",
    "Now we'll need to setup a pysumma simulation object. You won't need to run the models for this exercise (although you can with the code at the end of this notebook if you wnat to), but the psyumma objects can be useful to access the parameter and attribute values for each model setup."
   ]
  },
  {
   "cell_type": "code",
   "execution_count": null,
   "metadata": {},
   "outputs": [],
   "source": [
    "# SUMMA.exe location\n",
    "executable = '/usr/local/bin/summa.exe'"
   ]
  },
  {
   "cell_type": "code",
   "execution_count": null,
   "metadata": {},
   "outputs": [],
   "source": [
    "# Define location of .exe and file manager\n",
    "file_manager_lumped           = path_base + 'settings/bow/lumped/fileManager.txt'\n",
    "file_manager_lumped_elev      = path_base + 'settings/bow/lumped_elevationBands/fileManager.txt'\n",
    "file_manager_distributed      = path_base + 'settings/bow/distributed/fileManager.txt'\n",
    "file_manager_distributed_elev = path_base + 'settings/bow/distributed_elevationBands/fileManager.txt'"
   ]
  },
  {
   "cell_type": "code",
   "execution_count": null,
   "metadata": {},
   "outputs": [],
   "source": [
    "# Open pysumma simulations for both\n",
    "s_lumped           = ps.Simulation(executable, file_manager_lumped)\n",
    "s_lumped_elev      = ps.Simulation(executable, file_manager_lumped_elev)\n",
    "s_distributed      = ps.Simulation(executable, file_manager_distributed)\n",
    "s_distributed_elev = ps.Simulation(executable, file_manager_distributed_elev)"
   ]
  },
  {
   "cell_type": "markdown",
   "metadata": {},
   "source": [
    "<br>\n",
    "\n",
    "## Assignment - subjective decisions in spatial discretization of model domains\n",
    "For this assignment you will run SUMMA through its pysumma interface for the four different modelling setups presented above. For the distributed cases you will also run mizuRoute (Mizukam et al., 2016) to do flow routing between the 51 GRUs. Internal routing for elevation zones (in SUMMA terms, each elevation zone is an HRU within the GRU that defines the (sub) catchment) is handled by SUMMA."
   ]
  },
  {
   "cell_type": "markdown",
   "metadata": {},
   "source": [
    "<br>\n",
    "<br>\n",
    "\n",
    "## Exercise 1: snow analysis\n",
    "The spatial discretization of models affects the magnitude, timing and duration of the simulated snow pack and thus the magnitude, timing and duration of simulated streamflow. One way to visualize this is to plot the evolution of modelled Snow Water Equivalent (SWE) for each of the modelling elements in the four model setups (see Fig. 9 in Clark et al., 2011). SWE can be found in the SUMMA output `.nc` files as variable `scalarSWE`. As an example, code is provided that creates such a plot for cases 1 (lumped) and 2 (lumped with elevation bands). For this part of the exercise:\n",
    "- Create a similar plot for the two distributed model setups\n",
    "- Calculate a few metrics for each of the SWE simulations that quantify certain statistical properties of the simulation that you think are useful to understand the differences between these simulations. You can for example calculate a metric that quantifies the amount of SWE across the whole basin (magnitude) or a metric that quantifies the amount of time needed before all SWE has melted (timing). Clark et al. (2011) can give you further ideas.\n",
    "- Comment on the differences"
   ]
  },
  {
   "cell_type": "markdown",
   "metadata": {},
   "source": [
    "#### SWE plot for the two lumped cases"
   ]
  },
  {
   "cell_type": "code",
   "execution_count": null,
   "metadata": {},
   "outputs": [],
   "source": [
    "# define the output paths\n",
    "# -- SUMMA results\n",
    "path_sim_lumped            = path_base + 'output/bow/lumped/bow_lumped_default_timestep.nc'\n",
    "path_sim_lumped_elev       = path_base + 'output/bow/lumped_elevationBands/bow_lumped_elev_default_timestep.nc'\n",
    "path_sim_distr             = path_base + 'output/bow/distributed/bow_distributed_default_timestep.nc'\n",
    "path_sim_distr_elev        = path_base + 'output/bow/distributed_elevationBands/bow_distributed_elev_default_timestep.nc'\n",
    "\n",
    "# -- mizuRoute results (contains streamflow only)\n",
    "path_sim_distr_routed      = path_base + 'output/bow/distributed/bow_distributed_routed.nc'\n",
    "path_sim_distr_elev_routed = path_base + 'output/bow/distributed_elevationBands/bow_distributed_elev_routed.nc'"
   ]
  },
  {
   "cell_type": "code",
   "execution_count": null,
   "metadata": {},
   "outputs": [],
   "source": [
    "# load the SUMMA simulations, we won't need the routing results for SWE analysis\n",
    "sim_lumped      = xr.open_dataset(path_sim_lumped)\n",
    "sim_lumped_elev = xr.open_dataset(path_sim_lumped_elev)\n",
    "sim_distr       = xr.open_dataset(path_sim_distr)\n",
    "sim_distr_elev  = xr.open_dataset(path_sim_distr_elev)"
   ]
  },
  {
   "cell_type": "code",
   "execution_count": null,
   "metadata": {},
   "outputs": [],
   "source": [
    "# make the plot\n",
    "plt.figure(figsize=(30,7));\n",
    "\n",
    "sim_lumped.scalarSWE.plot(color='r', label='Case 1: lumped', linewidth=3);\n",
    "sim_lumped_elev.scalarSWE.plot.line(x='time', color='grey'); # not plotting labels for these helps with memory usage\n",
    "sim_lumped_elev.scalarSWE.mean(dim='hru').plot(color='b', label='Case 2: average of elevation bands (individual bands in grey)', linewidth=3)\n",
    "\n",
    "plt.legend(loc='upper left'); # forcing the legend in a specific location helps with memory usage\n",
    "plt.ylabel('simulated SWE [kg m-2]');"
   ]
  },
  {
   "cell_type": "code",
   "execution_count": 10,
   "metadata": {},
   "outputs": [],
   "source": [
    "import xarray as xr"
   ]
  },
  {
   "cell_type": "markdown",
   "metadata": {},
   "source": [
    "<br>\n",
    "<br>\n",
    "\n",
    "## Exercise 2: streamflow analysis\n",
    "The flow regime in the Bow river is predominantly melt-driven, and as such the spatial discretization of the model that affects magnitude, timing and duration of SWE simulations also affects the magnitude, timing and duration of streamflow simulations. Simulated streamflow for the four model setups can be accessed as follows:\n",
    "- Case 1, lumped: as variable `averageRoutedRunoff` in the model output `.nc` file, with units `[m s-1]`\n",
    "- Case 2, lumped + elevation zones: as variable `averageRoutedRunoff` in the model output `.nc` file, with units `[m s-1]`\n",
    "- Case 3: distributed: as variable `IRFroutedRunoff` in the routing output `.nc` file, with units `[m3 s-1]`\n",
    "- Case 4: distributed + elevation zones: as variable `IRFroutedRunoff` in the routing output `.nc` file, with units `[m3 s-1]`\n",
    "\n",
    "Due to the differences in spatial discretization, some further details about these streamflow simulations are needed:\n",
    "- Case 1, lumped: this single runoff time series is assumed to be from the basin outlet (and is for all intents and purposes identical to that in `scalarRunoffTotal`).\n",
    "- Case 2, lumped + elevation zones: time series of runoff for each of the three HRUs are assumed to flow into the unresolved river network (i.e. the river network smaller than the resolution for which we use mizuRoute for routing) and are routed internally with a Unit Hydrograph approach. This results in a single runoff time series for the GRU (i.e. the combination of the three HRUs).\n",
    "- Case 3, distributed: the routing model mizuRoute provides routed streamflow for each reach in the river network. The reach at the outlet has `reachID = 71028585`.\n",
    "- Case 4, distributed + elevation zones: see Case 2 and 3. Within-GRU routing is done within SUMMA; routing between GRUs is handled by mizuRoute.\n",
    "\n",
    "\n",
    "For this exercise:\n",
    "- Make sure the units of the simulations match by convert the streamflow series from either the lumped or the distributed cases. The catchment area that you need for this can be found as part of the local attributes of each pysumma instantiation (e.g. `s_lumped.local_attributes.HRUarea`).\n",
    "- Create one or more figures to show the differences in streamflow simulations. Examples could be the full time series for all four model instantions, the average annual hydrograph for each of the four cases (i.e. the average value of all 1-Jan 00:00's, 1-Jan 01:00's, etc), etc.\n",
    "- Calculate a few metrics for each of the streamflow simulations that quantify certain statistical properties of the simulation that you think are useful to understand the differences between these simulations. The metrics you calcualted for SWE could be useful for streamflow analysis too.\n",
    "- Comment on the simulation differences"
   ]
  },
  {
   "cell_type": "markdown",
   "metadata": {},
   "source": [
    "<br>\n",
    "\n",
    "## Exercise 3: synthesis\n",
    "Reflect on your findings about the impact of spatial discretization in models in the snow and streamflow simulations the model generates. Questions to consider:\n",
    "- How does the spatial discretization of the catchment affect catchment-average simulations of snow and streamflow?\n",
    "- How could the model setup be further adjusted to closer approach physical reality? "
   ]
  },
  {
   "cell_type": "markdown",
   "metadata": {},
   "source": [
    "<br>\n",
    "<br>\n",
    "\n",
    "***\n",
    "## Extra: code to run these models for yourself\n",
    "In case you're curious about model run times for different setups or wish to do some analysis that invovles changing model parametrizations or parameters, we here provide the code needed to run each of the four SUMMA setups. We've also included the code needed to do the routing of the two distributed setups. Note that these model setups are run in series. Parallelization is the focus of a later lecture. Enjoy!"
   ]
  },
  {
   "cell_type": "code",
   "execution_count": null,
   "metadata": {},
   "outputs": [],
   "source": [
    "# Make the output directory if it doesn't exist\n",
    "if not os.path.exists(s_lumped.manager['outputPath'].value):\n",
    "    os.makedirs(s_lumped.manager['outputPath'].value)\n",
    "    \n",
    "if not os.path.exists(s_lumped_elev.manager['outputPath'].value):\n",
    "    os.makedirs(s_lumped_elev.manager['outputPath'].value)    \n",
    "    \n",
    "if not os.path.exists(s_distributed.manager['outputPath'].value):\n",
    "    os.makedirs(s_distributed.manager['outputPath'].value) \n",
    "    \n",
    "if not os.path.exists(s_distributed_elev.manager['outputPath'].value):\n",
    "    os.makedirs(s_distributed_elev.manager['outputPath'].value) "
   ]
  },
  {
   "cell_type": "markdown",
   "metadata": {},
   "source": [
    "<br>\n",
    "\n",
    "#### Case 1: lumped catchment\n",
    "In the lumped case, the catchment is treated as a single (lumped) entity. In SUMMA terms, this model setup uses a single GRU (Geographic Response Unit). No routing is needed as a result."
   ]
  },
  {
   "cell_type": "code",
   "execution_count": null,
   "metadata": {},
   "outputs": [],
   "source": [
    "# Initialize a timer\n",
    "case1_time_start = time.time()\n",
    "\n",
    "# Run the lumped model with default settings\n",
    "s_lumped.run('local', run_suffix='default')\n",
    "print(s_lumped.status)\n",
    "\n",
    "# End the time and show result\n",
    "case1_time_end = time.time()\n",
    "print('Model run took ' + str(round(case1_time_end - case1_time_start)) + ' sec.')"
   ]
  },
  {
   "cell_type": "markdown",
   "metadata": {},
   "source": [
    "<br>\n",
    "\n",
    "#### Case 2: lumped catchment with elevation bands\n",
    "This setup introduces some spatial complexity, by defining elevation zones within the catchment. In SUMMA terms, the single lumped GRU (see case 1) is now sub-divided into three HRUs (Hydrological Response Units). SUMMA internally handles the routing from the highest HRU to the lowest. No external routing is needed."
   ]
  },
  {
   "cell_type": "code",
   "execution_count": null,
   "metadata": {},
   "outputs": [],
   "source": [
    "# Initialize a timer\n",
    "case2_time_start = time.time()\n",
    "\n",
    "# Run the model with the default settings\n",
    "s_lumped_elev.run('local', run_suffix='default')\n",
    "print(s_lumped_elev.status)\n",
    "\n",
    "# End the time and show result\n",
    "case2_time_end = time.time()\n",
    "print('Model run took ' + str(round(case2_time_end - case2_time_start)) + ' sec.')"
   ]
  },
  {
   "cell_type": "markdown",
   "metadata": {},
   "source": [
    "<br>\n",
    "\n",
    "#### Case 3: distributed catchment\n",
    "This setup introduces a different way of spatial discretizaiton, namely sub-dividing a larger catchment into multiple sub-catchments. This setup uses the MERIT Hydro basin delineation (Yamazaki et al., 2019) which provides 51 sub-catchments for our modelling domain. In SUMMA terms, this model setup uses 51 GRUs (technically, the setup also includes 51 HRUs that exactly overlap the GRUs - each GRU is \"divided\" into 1 HRU). SUMMA does not provide GRU-to-GRU routing and external routing is needed."
   ]
  },
  {
   "cell_type": "markdown",
   "metadata": {},
   "source": [
    "**SUMMA**"
   ]
  },
  {
   "cell_type": "code",
   "execution_count": null,
   "metadata": {},
   "outputs": [],
   "source": [
    "# Initialize a timer\n",
    "case3_time_summa_start = time.time()\n",
    "\n",
    "# Run the model with the default settings\n",
    "s_distributed.run('local', run_suffix='default')\n",
    "print(s_distributed.status)\n",
    "\n",
    "# End the time and show result\n",
    "case3_time_summa_end = time.time()\n",
    "print('Model run took ' + str(round(case3_time_summa_end - case3_time_summa_start)) + ' sec.')"
   ]
  },
  {
   "cell_type": "markdown",
   "metadata": {},
   "source": [
    "**mizuRoute**"
   ]
  },
  {
   "cell_type": "code",
   "execution_count": null,
   "metadata": {},
   "outputs": [],
   "source": [
    "# paths to routing .exe and settings\n",
    "mizuExe = 'route_runoff.exe'\n",
    "mizuArg = path_base + 'mizuRoute/settings/bow_distributed.control'"
   ]
  },
  {
   "cell_type": "code",
   "execution_count": null,
   "metadata": {},
   "outputs": [],
   "source": [
    "# Initialize a timer\n",
    "case3_time_mizu_start = time.time()\n",
    "\n",
    "# run mizuRoute through subprocess module\n",
    "log = subprocess.run([mizuExe, mizuArg], capture_output=True)\n",
    "\n",
    "# End the time and show result\n",
    "case3_time_mizu_end = time.time()\n",
    "print('Model run took ' + str(round(case3_time_mizu_end - case3_time_mizu_start)) + ' sec.')"
   ]
  },
  {
   "cell_type": "markdown",
   "metadata": {},
   "source": [
    "**mizuRoute post-processing**"
   ]
  },
  {
   "cell_type": "code",
   "execution_count": null,
   "metadata": {},
   "outputs": [],
   "source": [
    "# routing post-processing: find the individual annual mizuRoute output files\n",
    "files = []\n",
    "for file in os.listdir(s_distributed.manager['outputPath'].value):\n",
    "    if 'mizuRoute' in file:\n",
    "        files.append(s_distributed.manager['outputPath'].value + '/' + file)\n",
    "\n",
    "# make sure they are in the right order\n",
    "files.sort() "
   ]
  },
  {
   "cell_type": "code",
   "execution_count": null,
   "metadata": {},
   "outputs": [],
   "source": [
    "# routing post-processing: merge the annual files into a single file\n",
    "save_file = s_distributed.manager['outputPath'].value + '/' + s_distributed.manager['outFilePrefix'].value + '_routed.nc' # new file name\n",
    "ds = xr.merge([xr.open_dataset(file) for file in files]) # merge individual files\n",
    "ds.to_netcdf(save_file) # save to file"
   ]
  },
  {
   "cell_type": "markdown",
   "metadata": {},
   "source": [
    "<br>\n",
    "\n",
    "#### Case 4: distributed catchment with elevation bands\n",
    "This setup introduces even more spatial complexity, by sub-dividing each of the 51 GRUs in up to three elevation zones. As a result each GRU can now consist of up to 3 HRUs. As before (see case 2), SUMMA handles the HRU-to-HRU routing, but external routing is needed to do the GRU-to-GRU routing and gives us simulated streamflow at the outlet."
   ]
  },
  {
   "cell_type": "markdown",
   "metadata": {},
   "source": [
    "**SUMMA**"
   ]
  },
  {
   "cell_type": "code",
   "execution_count": null,
   "metadata": {},
   "outputs": [],
   "source": [
    "# Initialize a timer\n",
    "case4_time_summa_start = time.time()\n",
    "\n",
    "# Run the model with the default settings\n",
    "s_distributed_elev.run('local', run_suffix='default')\n",
    "print(s_distributed_elev.status)\n",
    "\n",
    "\n",
    "# End the time and show result\n",
    "case4_time_summa_end = time.time()\n",
    "print('Model run took ' + str(round(case4_time_summa_end - case4_time_summa_start)) + ' sec.')"
   ]
  },
  {
   "cell_type": "markdown",
   "metadata": {},
   "source": [
    "**mizuRoute**"
   ]
  },
  {
   "cell_type": "code",
   "execution_count": null,
   "metadata": {},
   "outputs": [],
   "source": [
    "# paths to routing .exe and settings\n",
    "mizuExe = 'route_runoff.exe'\n",
    "mizuArg = path_base + 'mizuRoute/settings/bow_distributed_elevationBands.control'"
   ]
  },
  {
   "cell_type": "code",
   "execution_count": null,
   "metadata": {},
   "outputs": [],
   "source": [
    "# Initialize a timer\n",
    "case4_time_mizu_start = time.time()\n",
    "\n",
    "# run mizuRoute.exe through subprocess module\n",
    "log = subprocess.run([mizuExe, mizuArg], capture_output=True)\n",
    "\n",
    "# End the time and show result\n",
    "case4_time_mizu_end = time.time()\n",
    "print('Model run took ' + str(round(case4_time_mizu_end - case4_time_mizu_start)) + ' sec.')"
   ]
  },
  {
   "cell_type": "markdown",
   "metadata": {},
   "source": [
    "**mizuRoute postprocessing**"
   ]
  },
  {
   "cell_type": "code",
   "execution_count": null,
   "metadata": {},
   "outputs": [],
   "source": [
    "# routing post-processing: find the individual annual mizuRoute output files\n",
    "files = []\n",
    "for file in os.listdir(s_distributed_elev.manager['outputPath'].value):\n",
    "    if 'mizuRoute' in file:\n",
    "        files.append(s_distributed_elev.manager['outputPath'].value + '/' + file)\n",
    "\n",
    "# make sure they are in the right order\n",
    "files.sort() "
   ]
  },
  {
   "cell_type": "code",
   "execution_count": null,
   "metadata": {},
   "outputs": [],
   "source": [
    "# routing post-processing: merge the annual files into a single one and remove the individual files\n",
    "save_file = s_distributed_elev.manager['outputPath'].value + '/' + s_distributed_elev.manager['outFilePrefix'].value + '_routed.nc' # new file name\n",
    "ds = xr.merge([xr.open_dataset(file) for file in files]) # merge individual files\n",
    "ds.to_netcdf(save_file) # save to file"
   ]
  },
  {
   "cell_type": "markdown",
   "metadata": {},
   "source": [
    "<br>\n",
    "\n",
    "Now we can generate a plot of the computational trade-offs. Approximately linear, as might be expected."
   ]
  },
  {
   "cell_type": "code",
   "execution_count": null,
   "metadata": {},
   "outputs": [],
   "source": [
    "time_taken = [118, 207, 2513+867, 5273+846] # ugly, but lost the variables. Oh well..\n",
    "comp_units = [1,   3,   51,       118]"
   ]
  },
  {
   "cell_type": "code",
   "execution_count": null,
   "metadata": {},
   "outputs": [],
   "source": [
    "plt.plot(comp_units,time_taken,linestyle='None',marker='o');\n",
    "plt.xlabel('number of computational units [-]');\n",
    "plt.ylabel('computational time [s]');\n",
    "plt.title('Computational cost of SUMMA and mizuRoute');"
   ]
  }
 ],
 "metadata": {
  "kernelspec": {
   "display_name": "Python 3",
   "language": "python",
   "name": "python3"
  },
  "language_info": {
   "codemirror_mode": {
    "name": "ipython",
    "version": 3
   },
   "file_extension": ".py",
   "mimetype": "text/x-python",
   "name": "python",
   "nbconvert_exporter": "python",
   "pygments_lexer": "ipython3",
   "version": "3.7.8"
  }
 },
 "nbformat": 4,
 "nbformat_minor": 4
}
