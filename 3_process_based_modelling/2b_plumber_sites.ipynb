{
 "cells": [
  {
   "cell_type": "markdown",
   "metadata": {},
   "source": [
    "# PLUMBER land surface model comparison project\n",
    "The Protocol for the Analysis of Land Surface Models (PALS) Land Surface Model Benchmarking Evaluation Project (PLUMBER) was designed to be a land surface model (LSM) benchmarking intercomparison (Best et al., 2015). Thirteen Land Surface Models were compared across 20 different sites across the world (Figure and Table below from Best et al., 2015).\n",
    "\n",
    "The PLUMBER experiment showed **that** models behave differently and created a motivation to find out **why** models behave differently. In this assignment you will use the Structure for Unifying Multiple Modelling Alternatives (Clark et al., 2015a, b) to investigate modelling decisions related to canopy processes and make a few steps towards answering the why-question.\n",
    "\n",
    "<div>\n",
    "<img src=\"./img/plumber_figure.png\" width=\"750\"/>\n",
    "</div>\n",
    "\n",
    "<div>\n",
    "<img src=\"./img/plumber_table.png\" width=\"750\"/>\n",
    "</div>\n",
    "\n",
    "## References\n",
    "Best, M.J., Abramowitz, G., Johnson, H.R., Pitman, A.J., Balsamo, G., Boone, A., Cuntz, M., Decharme, B., Dirmeyer, P.A., Dong, J. and Ek, M., 2015. The plumbing of land surface models: benchmarking model performance. Journal of Hydrometeorology, 16(3), pp.1425-1442.\n",
    "\n",
    "Clark, M. P., Nijssen, B., Lundquist, J. D., Kavetski, D., Rupp, D. E., Woods, R. A., … Rasmussen, R. M. (2015a). A unified approach for process-based hydrologic modeling: 1. Modeling concept. Water Resources Research, 51(4), 2498–2514. https://doi.org/10.1002/2015WR017198\n",
    "\n",
    "Clark, M. P., Nijssen, B., Lundquist, J. D., Kavetski, D., Rupp, D. E., Woods, R. A., … Marks, D. G. (2015b). A unified approach for process-based hydrologic modeling: 2. Model implementation and case studies. Water Resources Research, 51, 2515–2542. https://doi.org/10.1002/2015WR017200\n",
    "\n",
    "Clark, M. P., Zolfaghari, R., Green, K. R., Trim, S., Knoben, W. J. M., Bennet, A., Nijssen, B., Ireson, A. and Spiteri, R. J. (under review). Laugh tests for land models. Submitted to Journal of Hydrometerology, 2020."
   ]
  },
  {
   "cell_type": "markdown",
   "metadata": {},
   "source": [
    "<div class=\"alert alert-block alert-danger\">\n",
    "<b>Caution:</b> Please make sure you are using the right Python virtual environment (aka Kernel) to run this Notebook.\n",
    "</div>"
   ]
  },
  {
   "cell_type": "markdown",
   "metadata": {},
   "source": [
    "## Loading the required HPC modules\n",
    "\n",
    "Certain HPC modules need to be loaded beforehand. We are aiming to load the following list:\n",
    "1. `openmpi/4.1.1-gnu`\n",
    "2. `lib/hdf5/1.10.5-gnu730_openmpi402opagnu730`\n",
    "3. `lib/netcdf/c-4.7.3_f-4.5.2_gnu730_hdf51105_openmpi402opagnu730`\n",
    "4. `nco/4.9.2`\n",
    "5. `gcc/7.3.0`\n",
    "6. `python/3.10.4`"
   ]
  },
  {
   "cell_type": "code",
   "execution_count": null,
   "metadata": {},
   "outputs": [],
   "source": [
    "import os\n",
    "\n",
    "os.environ[\"LD_LIBRARY_PATH\"] = (\n",
    "    \"/global/software/python/3.10.4/lib/:\"\n",
    "    \"/global/software/gcc/gcc-7.3.0/lib64:\"\n",
    "    \"/global/software/gcc/gcc-7.3.0/lib:\"\n",
    "    \"/global/software/nco/nco492/lib:\"\n",
    "    \"/global/software/netcdf/netcdfc-4.7.3_gnu730_hdf51105_openmpi402opagnu730/lib:\"\n",
    "    \"/global/software/hdf5/hdf5-1.10.5_gnu730_openmpi402gnu730/lib:\"\n",
    "    \"/global/software/openmpi/gnu-8.4.1/4.1.1/lib:\"\n",
    "    \"/work/TALC/enci619.05_2024w/local/lib64/\"\n",
    ")"
   ]
  },
  {
   "cell_type": "markdown",
   "metadata": {},
   "source": [
    "<br>\n",
    "\n",
    "## Model setup\n",
    "We'll first load the required modules."
   ]
  },
  {
   "cell_type": "code",
   "execution_count": null,
   "metadata": {},
   "outputs": [],
   "source": [
    "# modules \n",
    "\n",
    "import pysumma as ps\n",
    "import xarray as xr\n",
    "import matplotlib.pyplot as plt"
   ]
  },
  {
   "cell_type": "markdown",
   "metadata": {},
   "source": [
    "<br>\n",
    "\n",
    "Prof. Clark has created three PLUMBER-specific lookup tables for question 4 of this exercise. These bear the names `plumberCABLE`, `plumberCHTESSEL`, and `plumberSUMMA` respectively, Due to the experiment-specific nature of the `plumberCABLE`, `plumberCHTESSEL`, and `plumberSUMMA` lookup tables, we'll need to notify pysumma that these lookup tables are available. Run the code below to do this."
   ]
  },
  {
   "cell_type": "code",
   "execution_count": null,
   "metadata": {},
   "outputs": [],
   "source": [
    "# Update the Lookup table decision\n",
    "ps.decisions.DECISION_META['vegeParTbl']['options'].append('plumberCABLE')\n",
    "ps.decisions.DECISION_META['vegeParTbl']['options'].append('plumberCHTESSEL')\n",
    "ps.decisions.DECISION_META['vegeParTbl']['options'].append('plumberSUMMA')"
   ]
  },
  {
   "cell_type": "markdown",
   "metadata": {},
   "source": [
    "<br>\n",
    "\n",
    "Now we can setup a pysumma simulation object. We'll abitrarily select the Amplero PLUMBER site as our default simulation."
   ]
  },
  {
   "cell_type": "code",
   "execution_count": null,
   "metadata": {},
   "outputs": [],
   "source": [
    "# SUMMA.exe location\n",
    "executable = '../0_prerequisites/summa.exe'"
   ]
  },
  {
   "cell_type": "code",
   "execution_count": null,
   "metadata": {},
   "outputs": [],
   "source": [
    "# Define location of .exe and file manager\n",
    "file_manager_constant = './settings/plumber/Amplero/summa_zFileManager_Amplero.txt'"
   ]
  },
  {
   "cell_type": "code",
   "execution_count": null,
   "metadata": {},
   "outputs": [],
   "source": [
    "# Open pysumma simulation object\n",
    "s_amplero = ps.Simulation(executable, file_manager_constant)"
   ]
  },
  {
   "cell_type": "code",
   "execution_count": null,
   "metadata": {},
   "outputs": [],
   "source": [
    "# Make the output directory if it doesn't exist\n",
    "if not os.path.exists(s_amplero.manager['outputPath'].value):\n",
    "    os.makedirs(s_amplero.manager['outputPath'].value)"
   ]
  },
  {
   "cell_type": "markdown",
   "metadata": {},
   "source": [
    "<br>\n",
    "\n",
    "## Assignment - subjective decisions in canopy processes\n",
    "The image below is reproduced from Fig. 1 in Clark et al. (under review). The image shows the mass (blue) and energy (red) fluxes in the canopy and the canopy air space. The representation of these fluxes in process-based models is part of the many decisions a modeller makes. In this assigment you will investigate the impact of some of these decisions on the simulations for one or more PLUMBER sites.\n",
    "\n",
    "<div>\n",
    "<img src=\"./img/canopy_fluxes.png\" width=\"750\"/>\n",
    "</div>"
   ]
  },
  {
   "cell_type": "markdown",
   "metadata": {},
   "source": [
    "### Note on pysumma\n",
    "In the following, you are asked to change certain values in your pysumma setup. Keep in mind that if you make these changes in the input files in the `settings` folder, you will need to make a new pysumma simulation object to have these changes take effect (`s_amplero = ps.Simulation(executable, file_manager_constant)`). If you instead make the changes to an existing pysumma simulation object, make sure to reset your pysumma simulation object to its base state after each simulation (`s_amplero.reset()`) so that your changes don't accumulate. \n",
    "\n",
    "### Note on finding simulated variables\n",
    "In the following exercises, you are asked to investigate the impact of certain modelling options on model simulations.\n",
    "Time series of certain simulated variables can be found in the output `.nc` file. You can find the location and name of the output `.nc` file by checking the `manager` option of your pysumma object (e.g. `print(s_amplero.manager)`). \n",
    "\n",
    "Interesting variables to investigate are indicated in each exercise. If you want to assess the impact on other simulations variables, you can either select those from the output `.nc` file that gets generated by default, or you can adapt the `Model_Output.txt` file in the `./settings/reynolds/` folder. Re-create your pysumma object afterwards to process changes to the `.txt`! See the SUMMA documentation for further guidance: https://summa.readthedocs.io/en/latest/input_output/SUMMA_input/#output-control-file\n",
    "\n",
    "<br>"
   ]
  },
  {
   "cell_type": "markdown",
   "metadata": {},
   "source": [
    "<br>\n",
    "\n",
    "## Exercise 1: Canopy transmissivity\n",
    "The canopy can block incoming shortwave radiation (Qswd) from reaching the land surface. Transmission and attentuation of incoming shortwave radiation is controlled by the parametrization chosen to represent this process and the Leaf Area Index of the canopy. We'll focus on the parametrization choice for this assignment. This modelling decision is called `canopySrad` in the SUMMA decision file. \n",
    "\n",
    "Use your knowledge of pysumma to:\n",
    "\n",
    "- Find out what the available parametrizations for `canopySrad` are\n",
    "- Remove option `noah_mp` because it does not compute our variable of interest\n",
    "- Run the simulations for your chosen PLUMBER site with the available parametrizations\n",
    "- Make a graph to show the differences in simulated below canopy shortwave radiation (`scalarBelowCanopySolar`) and comment on the sensitivities. You can compare this with eastimated incoming shortwave radiation above the canopy for referece - this information is stored in the model forcing data as variable `SWRadAtm` but for convenience also generated as part of the SUMMA outputs for this experiment\n",
    "\n",
    "As an example for the remainder of this exercise, code to run the required simulations for Exercise 1 is provided below. All that's left to complete this exercise is to run the code blocks below and to comment on the differences in snow depth simulation you see. "
   ]
  },
  {
   "cell_type": "markdown",
   "metadata": {},
   "source": [
    "#### Exercise 1: Answers"
   ]
  },
  {
   "cell_type": "code",
   "execution_count": null,
   "metadata": {},
   "outputs": [],
   "source": [
    "# Find the parametrizations\n",
    "decision = 'canopySrad'\n",
    "parametrizations = s_amplero.decisions[decision].available_options.copy()\n",
    "print(parametrizations)"
   ]
  },
  {
   "cell_type": "code",
   "execution_count": null,
   "metadata": {
    "scrolled": true
   },
   "outputs": [],
   "source": [
    "# The 'naoh_mp' parametrization option does not compute our variable of interest, `scalarBelowCanopySolar`, so there's no need to include it in the tests\n",
    "parametrizations.remove('noah_mp')\n",
    "print(parametrizations)"
   ]
  },
  {
   "cell_type": "code",
   "execution_count": null,
   "metadata": {},
   "outputs": [],
   "source": [
    "# Do the simulations\n",
    "for parametrization in parametrizations:\n",
    "    \n",
    "    # Print what we're doing\n",
    "    print('Setting up simulations with parametrization ' + parametrization + ' for ' + decision)\n",
    "    \n",
    "    # reset the simulation\n",
    "    s_amplero.reset()\n",
    "    \n",
    "    # Set the model decision\n",
    "    s_amplero.decisions[decision] = parametrization\n",
    "    \n",
    "    # Run the model\n",
    "    s_amplero.run('local', run_suffix=decision + '_' + parametrization )"
   ]
  },
  {
   "cell_type": "code",
   "execution_count": null,
   "metadata": {},
   "outputs": [],
   "source": [
    "# prepare the plot\n",
    "output_files = [\n",
    "    './output/plumber/Amplero/Amplero__canopySrad_CLM_2stream_timestep.nc',\n",
    "    './output/plumber/Amplero/Amplero__canopySrad_UEB_2stream_timestep.nc',\n",
    "    './output/plumber/Amplero/Amplero__canopySrad_NL_scatter_timestep.nc',\n",
    "    './output/plumber/Amplero/Amplero__canopySrad_BeersLaw_timestep.nc']"
   ]
  },
  {
   "cell_type": "code",
   "execution_count": null,
   "metadata": {},
   "outputs": [],
   "source": [
    "# define a plotting function that collects a bunch of commands that need to be repeated to get each simulation into the plot\n",
    "def aux_plot_1(files,labels):\n",
    "    \n",
    "    idx = -1 # label counter\n",
    "    \n",
    "    for file in files:\n",
    "        \n",
    "        # Increment counter\n",
    "        idx +=1\n",
    "        \n",
    "        # load data\n",
    "        ds = xr.open_dataset(file).isel(hru=0, gru=0).load() # pre-select the single hru and gru that are within the data\n",
    "        \n",
    "        # Plot the observations of first file\n",
    "        if idx == 0:\n",
    "            ds['SWRadAtm'].plot(color='k',label='Above canopy forcing')\n",
    "        \n",
    "        # Plot data \n",
    "        ds['scalarBelowCanopySolar'].plot(label=labels[idx])"
   ]
  },
  {
   "cell_type": "code",
   "execution_count": null,
   "metadata": {
    "scrolled": true
   },
   "outputs": [],
   "source": [
    "# make the plot\n",
    "plt.figure(figsize=(30,6))\n",
    "aux_plot_1(output_files,parametrizations)\n",
    "plt.legend()\n",
    "plt.title('Impact of shortwave transmissivity parametrization at the PLUMBER Amplero site')\n",
    "plt.ylabel('Below canopy shortwave radiation [W m-2]');"
   ]
  },
  {
   "cell_type": "markdown",
   "metadata": {},
   "source": [
    "<br>\n",
    "<br>\n",
    "\n",
    "## Exercise 2: Precipitation partitioning\n",
    "Precipitation partitioning between canopy interception and throughfall is determined by both the canopy wetting function and the canopy interception capacity. The canopy wetting function is a modelling decision called `cIntercept`. SUMMA lists three options here, but only two are currently implemented. Canopy storage is controlled by parameters `refInterceptCapRain` and `refInterceptCapSnow`:\n",
    "\n",
    "| Parameter                 | Value        | Min range    | Max range    | Unit | Description\n",
    "| :-|:-|:-|:-|:-|:-\n",
    "| refInterceptCapSnow       |       6.6000 |       1.0000 |      10.0000 | kg m-2 | canopy interception capacity per unit leaf area (snow)\n",
    "| refInterceptCapRain       |       1.0000 |       0.0100 |       1.0000 | kg m-2 | canopy interception capacity per unit leaf area (rain)\n",
    "\n",
    "Use your knowledge of pysumma to:\n",
    "- Find out what the available parametrizations for `sIntercept` are\n",
    "- Do not use parametrization `notPopulatedYet`, for obvious reasons\n",
    "- Run the simulations for the Amplero site with the other two parametrizations\n",
    "- Repeat this with several different values for `refInterceptCapRain` and `refInterceptCapSnow`\n",
    "- Make graphs to show the differences in simulated evaporation (`scalarCanopyEvaporation`) and transpiration (`scalarCanopyTranspiration`), and the difference in simulated throughfall of rain (`scalarThroughfallRain`) and snow (`scalarThroughfallSnow`). Comment on what you see"
   ]
  },
  {
   "cell_type": "markdown",
   "metadata": {},
   "source": [
    "<br>\n",
    "<br>\n",
    "\n",
    "## Exercise 3: Below canopy wind profile \n",
    "The choice of vertical wind profile affects the simulated sensible and latent heat fluxes. This modelling decision is called `windPrfile` in the SUMMA decision file. It has two options, `exponential` and `logBelowCanopy`, where the `exponential` profile also relies on a parameter that describes the decline in wind speed:\n",
    "\n",
    "| Parameter                 | Value        | Min range    | Max range    | Unit | Description\n",
    "| :-|:-|:-|:-|:-|:-\n",
    "| windReductionParam        |       0.2800 |       0.0000 |       1.0000 | - | canopy wind reduction parameter\n",
    "\n",
    "Use your knowledge of pysumma to:\n",
    "\n",
    "- Run the simulations for your PLUMBER site with both profiles\n",
    "- Re-run your simulations with the exponential wind profile several times with different values for the wind reduction parameter\n",
    "- Make a graph to show the differences between the two wind profiles and the impact of the `windReductionParam` parameter. You can look at variables such as sensible heat (`scalarSenHeatTotal`) and surface temperature (`scalarSurfaceTemp`)"
   ]
  },
  {
   "cell_type": "markdown",
   "metadata": {},
   "source": [
    "<br>\n",
    "<br>\n",
    "\n",
    "## Exercise 4: Vegetation properties\n",
    "Canopy interception is partly determined by the specified Leaf Area Index (LAI) and Stem Area Index (SAI). SUMMA has two modelling options available as part of decision `LAI_method`: `monTable` and `specified`. `monTable` uses a lookup table to find LAI values, the choice of which is specified in the `vegeParTbl` modelling decision. Option `specified` instead uses parameter `summerLai` and `winterSAI` values from the global GRU parameter file. For now, we'll focus on the choice of lookup table only.\n",
    "\n",
    "Prof. Clark has created three PLUMBER-specific lookup tables for this vegetation phenology experiment. These bear the names `plumberCABLE`, `plumberCHTESSEL`, and `plumberSUMMA` respectively, where the `plumberSUMMA` table is identical to the default PLUMBER setup we generated at the beginning of this assignment. \n",
    "\n",
    "For this exericse, use your knowledge of pysumma to:\n",
    "- Generate simulations for one of the PLUMBER sites with each of the three phenology options specified above\n",
    "- Make graphs to show the differences in simulated evaporation (`scalarCanopyEvaporation`) and transpiration (`scalarCanopyTranspiration`), and the difference in simulated throughfall of rain (`scalarThroughfallRain`) and snow (`scalarThroughfallSnow`). Comment on what you see\n",
    "\n",
    "#### NOTE\n",
    "Due to the experiment-specific nature of the `plumberCABLE`, `plumberCHTESSEL`, and `plumberSUMMA` lookup tables, some remapping of the `vegTypeIndex` parameter is needed. Detailed explanations are beyond the scope of this assignment. Use the code provided below to do the required remapping. To avoid confusion, your code must include:\n",
    "- a line to change the `vegeParTbl` modelling decision to be one of `plumberCABLE`, `plumberCHTESSEL`, or `plumberSUMMA`\n",
    "- a line that calls the remap function for your chosen site, e.g. `remap_vegTypeIndex_to_siteIndex(s_amplero,'Amplero')`\n",
    "\n",
    "You can check if the remapping has been performed correctly by calling `s_amplero.local_attributes['vegTypeIndex'].data[0]` before you run your model simulation. The value returned must match the value in the code below, e.g. for the Amplero site you should see `1`, for Blodgett you should see `2`, etc.\n",
    "\n",
    "Note that if you reset your simulation object (`s_amplero.reset()`), this will reset __both__ the modelling decision __and__ the remapping. "
   ]
  },
  {
   "cell_type": "code",
   "execution_count": null,
   "metadata": {},
   "outputs": [],
   "source": [
    "# remapping of the `vegTypeIndex` parameter\n",
    "def remap_vegTypeIndex_to_siteIndex(simulationObject,site):\n",
    "    \n",
    "    # Indices of all sites in the `VEGPARM.TBL` and `MPTABLE.TBL` files, for the PLUMBER-specific lookup tables\n",
    "    siteIndex = {'Amplero':  1,\n",
    "                'Blodgett':  2,\n",
    "                'Bugac':     3,\n",
    "                'ElSaler':   4,\n",
    "                'ElSaler2':  5,\n",
    "                'Espirra':   6,\n",
    "                'FortPeck':  7,\n",
    "                'Harvard':   8,\n",
    "                'Hesse':     9,\n",
    "                'Howard':   10,\n",
    "                'Howlandm': 11,\n",
    "                'Hyytiala': 12,\n",
    "                'Kruger':   13,\n",
    "                'Loobos':   14,\n",
    "                'Merbleue': 15,\n",
    "                'Mopane':   16,\n",
    "                'Palang':   17,\n",
    "                'Sylvania': 18,\n",
    "                'Tumba':    19,\n",
    "                'UniMich':  20}\n",
    "    \n",
    "    # Change the `vegTypeIndex` parameter\n",
    "    simulationObject.local_attributes['vegTypeIndex'].data[0] = siteIndex[site]\n",
    "    \n",
    "    return"
   ]
  }
 ],
 "metadata": {
  "kernelspec": {
   "display_name": "pbhm-python-venv",
   "language": "python",
   "name": "pbhm-python-venv"
  },
  "language_info": {
   "codemirror_mode": {
    "name": "ipython",
    "version": 3
   },
   "file_extension": ".py",
   "mimetype": "text/x-python",
   "name": "python",
   "nbconvert_exporter": "python",
   "pygments_lexer": "ipython3",
   "version": "3.10.4"
  }
 },
 "nbformat": 4,
 "nbformat_minor": 4
}
