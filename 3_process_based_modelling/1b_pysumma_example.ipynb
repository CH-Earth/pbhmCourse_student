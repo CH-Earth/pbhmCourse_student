{
 "cells": [
  {
   "cell_type": "markdown",
   "metadata": {},
   "source": [
    "# Pysumma example\n",
    "In this notebook we'll use pysumma to reproduce an experiment published in Clark et al. (2015). Data for this experiment are from Reynolds Mountain East is located in southwestern Idaho (Reba at al., 2009, 2011, 2012, 2014; Flerchinger et al., 2012). The experiment investigates the impact of different snow albedo parametrizations.\n",
    "\n",
    "## References\n",
    "Clark, M. P. et al. (2015), A unified approach for process-based hydrologic modeling: 2. Model implementation and case studies, Water Resour. Res., 51, 2515–2542, doi:10.1002/2015WR017200.\n",
    "\n",
    "Flerchinger, G. N., M. L. Reba, and D. Marks (2012), Measurement of surface energy fluxes from two Rangeland sites and comparison with a multilayer canopy model, J. Hydrometeorol., 13(3), 1038–1051, doi:10.1175/jhm-d-11-093.1\n",
    "\n",
    "Reba, M. L., T. E. Link, D. Marks, and J. Pomeroy (2009), An assessment of corrections for eddy covariance measured turbulent fluxes over snow in mountain environments, Water Resour. Res., 45, W00d38, doi:10.1029/2008WR007045.\n",
    "\n",
    "Reba, M. L., D. Marks, M. Seyfried, A. Winstral, M. Kumar, and G. Flerchinger (2011), A long-term data set for hydrologic modeling in a snowdominated mountain catchment, Water Resour. Res., 47, W07702, doi:10.1029/2010WR010030.\n",
    "\n",
    "Reba, M. L., J. Pomeroy, D. Marks, and T. E. Link (2012), Estimating surface sublimation losses from snowpacks in a mountain catchment using eddy covariance and turbulent transfer calculations, Hydrol. Processes, 26(24), 3699–3711, doi:10.1002/hyp.8372.\n",
    "\n",
    "Reba, M. L., D. Marks, T. E. Link, J. Pomeroy, and A. Winstral (2014), Sensitivity of model parameterizations for simulated latent heat flux at the snow surface for complex mountain sites, Hydrol. Processes, 28(3), 868–881, doi:10.1002/hyp.9619.\n",
    "\n",
    "<br>"
   ]
  },
  {
   "cell_type": "markdown",
   "metadata": {},
   "source": [
    "<div class=\"alert alert-block alert-danger\">\n",
    "<b>Caution:</b> Please make sure you are using the right Python virtual environment (aka Kernel) to run this Notebook.\n",
    "</div>"
   ]
  },
  {
   "cell_type": "markdown",
   "metadata": {},
   "source": [
    "## Loading the required HPC modules\n",
    "\n",
    "Certain HPC modules need to be loaded beforehand. We are aiming to load the following list:\n",
    "1. `openmpi/4.1.1-gnu`\n",
    "2. `lib/hdf5/1.10.5-gnu730_openmpi402opagnu730`\n",
    "3. `lib/netcdf/c-4.7.3_f-4.5.2_gnu730_hdf51105_openmpi402opagnu730`\n",
    "4. `nco/4.9.2`\n",
    "5. `gcc/7.3.0`\n",
    "6. `python/3.10.4`"
   ]
  },
  {
   "cell_type": "code",
   "execution_count": null,
   "metadata": {},
   "outputs": [],
   "source": [
    "import os\n",
    "\n",
    "os.environ[\"LD_LIBRARY_PATH\"] = (\n",
    "    \"/global/software/python/3.10.4/lib/:\"\n",
    "    \"/global/software/gcc/gcc-7.3.0/lib64:\"\n",
    "    \"/global/software/gcc/gcc-7.3.0/lib:\"\n",
    "    \"/global/software/nco/nco492/lib:\"\n",
    "    \"/global/software/netcdf/netcdfc-4.7.3_gnu730_hdf51105_openmpi402opagnu730/lib:\"\n",
    "    \"/global/software/hdf5/hdf5-1.10.5_gnu730_openmpi402gnu730/lib:\"\n",
    "    \"/global/software/openmpi/gnu-8.4.1/4.1.1/lib:\"\n",
    "    \"/work/TALC/enci619.05_2024w/local/lib64/\"\n",
    ")"
   ]
  },
  {
   "cell_type": "markdown",
   "metadata": {},
   "source": [
    "## Loading the required Python modules"
   ]
  },
  {
   "cell_type": "code",
   "execution_count": null,
   "metadata": {},
   "outputs": [],
   "source": [
    "# modules\n",
    "\n",
    "import pysumma as ps\n",
    "import xarray as xr\n",
    "import matplotlib.pyplot as plt"
   ]
  },
  {
   "cell_type": "code",
   "execution_count": null,
   "metadata": {},
   "outputs": [],
   "source": [
    "# SUMMA.exe location\n",
    "executable = '../0_prerequisites/summa.exe'"
   ]
  },
  {
   "cell_type": "markdown",
   "metadata": {},
   "source": [
    "## Reproduce the albedo decay rate experiment\n",
    "The experiments in Clark et al. (2015) required the setup of two SUMMA instantiations, one with a constant albedo decay rate and one with a variable decay rate. Differences between both setups are only in the `alb_method` modeling decision and the parameter associated with both modelling approaches for albedo decay. We will define a PySUMMA instantiation for both setups.\n",
    "\n",
    "### Model setup"
   ]
  },
  {
   "cell_type": "code",
   "execution_count": null,
   "metadata": {},
   "outputs": [],
   "source": [
    "# Define location of .exe and file manager\n",
    "file_manager_constant = './settings/reynolds/summa_fileManager_reynoldsConstantDecayRate.txt'\n",
    "file_manager_variable = './settings/reynolds/summa_fileManager_reynoldsVariableDecayRate.txt'"
   ]
  },
  {
   "cell_type": "code",
   "execution_count": null,
   "metadata": {},
   "outputs": [],
   "source": [
    "# Open pysumma simulations for both\n",
    "s_constant = ps.Simulation(executable, file_manager_constant)\n",
    "s_variable = ps.Simulation(executable, file_manager_variable)"
   ]
  },
  {
   "cell_type": "markdown",
   "metadata": {},
   "source": [
    "<br>\n",
    "\n",
    "Check the albedo settings in both simulation objects to make sure they are assigned correctly."
   ]
  },
  {
   "cell_type": "code",
   "execution_count": null,
   "metadata": {},
   "outputs": [],
   "source": [
    "print('Available albedo decay options:' + str(s_constant.decisions['alb_method'].available_options))\n",
    "print(str(s_constant.decisions['alb_method']) + ' in `constant` simulation.')\n",
    "print(str(s_variable.decisions['alb_method']) + ' in `variable` simulation.')"
   ]
  },
  {
   "cell_type": "markdown",
   "metadata": {},
   "source": [
    "<br>\n",
    "\n",
    "Ensure the output directories exist."
   ]
  },
  {
   "cell_type": "code",
   "execution_count": null,
   "metadata": {},
   "outputs": [],
   "source": [
    "# Make the output directory if it doesn't exist\n",
    "if not os.path.exists(s_constant.manager['outputPath'].value):\n",
    "    os.makedirs(s_constant.manager['outputPath'].value)\n",
    "    \n",
    "if not os.path.exists(s_variable.manager['outputPath'].value):\n",
    "    os.makedirs(s_variable.manager['outputPath'].value)    "
   ]
  },
  {
   "cell_type": "markdown",
   "metadata": {},
   "source": [
    "### Model runs\n",
    "We can now run the simulations for both cases."
   ]
  },
  {
   "cell_type": "code",
   "execution_count": null,
   "metadata": {},
   "outputs": [],
   "source": [
    "s_constant.run('local', run_suffix='constantAlbedoDecayRate')\n",
    "s_variable.run('local', run_suffix='variableAlbedoDecayRate')\n",
    "\n",
    "# Check simulation status\n",
    "print(s_constant.status)\n",
    "print(s_variable.status)"
   ]
  },
  {
   "cell_type": "markdown",
   "metadata": {},
   "source": [
    "### Output visualization\n",
    "We'll briefly investigate the structure of the output files SUMMA generates. We'll load the files with `xarray`:"
   ]
  },
  {
   "cell_type": "code",
   "execution_count": null,
   "metadata": {},
   "outputs": [],
   "source": [
    "# output location\n",
    "file_out_constant = './output/reynolds/reynolds_constantAlbedoDecayRate_timestep.nc'\n",
    "file_out_variable = './output/reynolds/reynolds_variableAlbedoDecayRate_timestep.nc'"
   ]
  },
  {
   "cell_type": "code",
   "execution_count": null,
   "metadata": {},
   "outputs": [],
   "source": [
    "# Load the data\n",
    "out_constant = xr.open_dataset(file_out_constant).isel(hru=0, gru=0).load() # pre-select the single hru and gru that are within the data\n",
    "out_variable = xr.open_dataset(file_out_variable).isel(hru=0, gru=0).load()"
   ]
  },
  {
   "cell_type": "markdown",
   "metadata": {},
   "source": [
    "<br>\n",
    "\n",
    "Let's take a look at the content of this .nc file. Note that we could also use `s_constant.output` but these simulation objects do not persist between sessions. If you need to spread your work over multiple sessions, being able to work with the output files directly is useful. The SUMMA documentation (https://summa.readthedocs.io/en/latest/input_output/SUMMA_output/#summa-output-files) provides details about the output dimensions `ifcSoil`, `ifcToto`, `midSoil` and `midToto`. Dimension `time`, of course, represents time. The attributes of each data variable (accessed by clicking the document icon in each data variable row) provide a somewhat longer description of the variable and its units. The general attributes are a list of modelling decisions used to generate these simulations:"
   ]
  },
  {
   "cell_type": "code",
   "execution_count": null,
   "metadata": {
    "scrolled": true
   },
   "outputs": [],
   "source": [
    "# Have a look at what is in the output .nc file -> use the dropdown arrows to check the contents\n",
    "out_constant"
   ]
  },
  {
   "cell_type": "markdown",
   "metadata": {},
   "source": [
    "<br> \n",
    "\n",
    "Fortunately, out variable of interest `scalarSnowDepth` only has a time dimension. This makes plotting straightforward:"
   ]
  },
  {
   "cell_type": "code",
   "execution_count": null,
   "metadata": {},
   "outputs": [],
   "source": [
    "# Define the variable\n",
    "var = 'scalarSnowDepth'"
   ]
  },
  {
   "cell_type": "code",
   "execution_count": null,
   "metadata": {
    "scrolled": true
   },
   "outputs": [],
   "source": [
    "# plot both snow depth simulations against time\n",
    "plt.figure(figsize=(20,6))\n",
    "out_variable[var].plot(label='Variable albedo decay',color='b'); # we can use xarray's built-in plotting capability\n",
    "out_constant[var].plot(label='Constant albedo decay',color='r');\n",
    "plt.legend()\n",
    "plt.title('Impact of albedo parametrization on snow depth simulations at Reynolds Mountain East')\n",
    "plt.ylabel('Snow depth [m]');"
   ]
  },
  {
   "cell_type": "markdown",
   "metadata": {},
   "source": [
    "Now let's add the observations to fully reproduce Fiure 6a of Clark et al. (2015)."
   ]
  },
  {
   "cell_type": "code",
   "execution_count": null,
   "metadata": {},
   "outputs": [],
   "source": [
    "# location of observation file\n",
    "file_obs = './data/reynolds/ReynoldsCreek_valData.nc'"
   ]
  },
  {
   "cell_type": "code",
   "execution_count": null,
   "metadata": {},
   "outputs": [],
   "source": [
    "# Load the data\n",
    "obs = xr.open_dataset(file_obs)"
   ]
  },
  {
   "cell_type": "markdown",
   "metadata": {},
   "source": [
    "Snow depth is stored as `zs_sheltered` in this file (\"sheltered\" refers to a specific site with tree cover in the catchment - note that we also used forcing from the sheltered site). There are more observations than we had forcing data for, so we'll need to select an appropriate time period to plot. Note that the observations are in `cm`, whereas SUMMA's outputs are in `m`."
   ]
  },
  {
   "cell_type": "code",
   "execution_count": null,
   "metadata": {},
   "outputs": [],
   "source": [
    "# Check the data\n",
    "obs['zs_sheltered'].plot();"
   ]
  },
  {
   "cell_type": "code",
   "execution_count": null,
   "metadata": {},
   "outputs": [],
   "source": [
    "# Select the time period\n",
    "times = ['2005-09-01','2006-09-01']"
   ]
  },
  {
   "cell_type": "code",
   "execution_count": null,
   "metadata": {},
   "outputs": [],
   "source": [
    "# we can't use xarray's plotting capabilities for this specific plot, \n",
    "# so we'll store the data in temporary variables for clarity\n",
    "plt_time = obs['time'].sel(time=slice(times[0],times[1]))\n",
    "plt_snow = obs['zs_sheltered'].sel(time=slice(times[0],times[1])) / 100 # convert cm > m"
   ]
  },
  {
   "cell_type": "code",
   "execution_count": null,
   "metadata": {
    "scrolled": true
   },
   "outputs": [],
   "source": [
    "# Now we can re-create the plot\n",
    "plt.figure(figsize=(20,6))\n",
    "plt.fill_between(plt_time,plt_snow,color=[0.7,0.7,0.7],label='observations');\n",
    "out_variable[var].sel(time=slice(times[0],times[1])).plot(label='Variable albedo decay',color='b'); \n",
    "out_constant[var].sel(time=slice(times[0],times[1])).plot(label='Constant albedo decay',color='r');\n",
    "plt.legend()\n",
    "plt.title('Impact of albedo parametrization on snow depth simulations at Reynolds Mountain East')\n",
    "plt.ylabel('Snow depth [m]');"
   ]
  },
  {
   "cell_type": "markdown",
   "metadata": {},
   "source": [
    "<br>\n",
    "\n",
    "With this, we have reproduced the simulations in Figure 6 of Clark et al. (2015) and performed an experiment that shows the impact of two different process parametrizations, whilst keeping all other modelling decisions constant."
   ]
  }
 ],
 "metadata": {
  "kernelspec": {
   "display_name": "pbhm-python-venv",
   "language": "python",
   "name": "pbhm-python-venv"
  },
  "language_info": {
   "codemirror_mode": {
    "name": "ipython",
    "version": 3
   },
   "file_extension": ".py",
   "mimetype": "text/x-python",
   "name": "python",
   "nbconvert_exporter": "python",
   "pygments_lexer": "ipython3",
   "version": "3.10.4"
  }
 },
 "nbformat": 4,
 "nbformat_minor": 4
}
